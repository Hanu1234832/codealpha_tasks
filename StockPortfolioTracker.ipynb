{
  "nbformat": 4,
  "nbformat_minor": 0,
  "metadata": {
    "colab": {
      "provenance": []
    },
    "kernelspec": {
      "name": "python3",
      "display_name": "Python 3"
    },
    "language_info": {
      "name": "python"
    }
  },
  "cells": [
    {
      "cell_type": "code",
      "execution_count": 3,
      "metadata": {
        "colab": {
          "base_uri": "https://localhost:8080/"
        },
        "id": "Tkj9bx1LqCu2",
        "outputId": "7b91d81f-123c-45c4-c348-7a6dcc081a84"
      },
      "outputs": [
        {
          "name": "stdout",
          "output_type": "stream",
          "text": [
            "Enter your stock holdings (type 'done' to finish):\n",
            "Stock Symbol (e.g., AAPL): aapl\n",
            "Quantity of AAPL: 5\n",
            "Stock Symbol (e.g., AAPL): googl\n",
            "Quantity of GOOGL: 5\n",
            "Stock Symbol (e.g., AAPL): done\n",
            "\n",
            "Your Portfolio Summary:\n",
            "AAPL: 5 shares x $180 = $900\n",
            "GOOGL: 5 shares x $2800 = $14000\n",
            "\n",
            "Total Investment Value: $14900\n",
            "Do you want to save this to a file? (yes/no): no\n"
          ]
        }
      ],
      "source": [
        "# Hardcoded stock prices\n",
        "stock_prices = {\n",
        "    \"AAPL\": 180,\n",
        "    \"TSLA\": 250,\n",
        "    \"GOOGL\": 2800,\n",
        "    \"MSFT\": 330\n",
        "}\n",
        "\n",
        "# Dictionary to store user input\n",
        "portfolio = {}\n",
        "\n",
        "# Input stock data from user\n",
        "print(\"Enter your stock holdings (type 'done' to finish):\")\n",
        "while True:\n",
        "    stock = input(\"Stock Symbol (e.g., AAPL): \").upper()\n",
        "    if stock == 'DONE':\n",
        "        break\n",
        "    if stock not in stock_prices:\n",
        "        print(\"Stock not found in price list. Try again.\")\n",
        "        continue\n",
        "    try:\n",
        "        quantity = int(input(f\"Quantity of {stock}: \"))\n",
        "        portfolio[stock] = portfolio.get(stock, 0) + quantity\n",
        "    except ValueError:\n",
        "        print(\"Invalid quantity. Please enter a number.\")\n",
        "\n",
        "# Calculate total investment\n",
        "total_value = 0\n",
        "print(\"\\nYour Portfolio Summary:\")\n",
        "for stock, qty in portfolio.items():\n",
        "    value = stock_prices[stock] * qty\n",
        "    total_value += value\n",
        "    print(f\"{stock}: {qty} shares x ${stock_prices[stock]} = ${value}\")\n",
        "\n",
        "print(f\"\\nTotal Investment Value: ${total_value}\")\n",
        "\n",
        "# Save to file (optional)\n",
        "save_option = input(\"Do you want to save this to a file? (yes/no): \").lower()\n",
        "if save_option == 'yes':\n",
        "    filename = input(\"Enter filename (with .txt or .csv extension): \")\n",
        "    with open(filename, 'w') as file:\n",
        "        file.write(\"Stock,Quantity,Price,Total Value\\n\")\n",
        "        for stock, qty in portfolio.items():\n",
        "            price = stock_prices[stock]\n",
        "            value = price * qty\n",
        "            file.write(f\"{stock},{qty},{price},{value}\\n\")\n",
        "        file.write(f\"\\nTotal Investment Value,,,{total_value}\")\n",
        "    print(f\"Data saved to {filename}\")"
      ]
    }
  ]
}