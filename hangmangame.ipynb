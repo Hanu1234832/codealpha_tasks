{
  "nbformat": 4,
  "nbformat_minor": 0,
  "metadata": {
    "colab": {
      "provenance": []
    },
    "kernelspec": {
      "name": "python3",
      "display_name": "Python 3"
    },
    "language_info": {
      "name": "python"
    }
  },
  "cells": [
    {
      "cell_type": "code",
      "execution_count": null,
      "metadata": {
        "colab": {
          "base_uri": "https://localhost:8080/"
        },
        "id": "9PCzMzLscUEj",
        "outputId": "8d406536-d5cd-4077-9d4c-9ced9a30a1b6"
      },
      "outputs": [
        {
          "output_type": "stream",
          "name": "stdout",
          "text": [
            "🎮 Welcome to Hangman!\n",
            "Guess the word: _ _ _ _ _ _\n",
            "\n",
            "Guessed letters so far: \n",
            "Enter a letter: a\n",
            "✅ Correct guess!\n",
            "Word: _ a _ a _ a\n",
            "Remaining tries: 6\n",
            "Current Score: 10\n",
            "\n",
            "Guessed letters so far: a\n"
          ]
        }
      ],
      "source": [
        "import random\n",
        "\n",
        "# Step 1: Define a list of 5 words\n",
        "word_list = [\"apple\", \"banana\", \"cherry\", \"mango\", \"grapes\"]\n",
        "\n",
        "# Step 2: Randomly choose a word\n",
        "secret_word = random.choice(word_list)\n",
        "guessed_word = [\"_\"] * len(secret_word)\n",
        "guessed_letters = []\n",
        "incorrect_guesses = 0\n",
        "max_guesses = 6\n",
        "score = 0\n",
        "\n",
        "print(\"🎮 Welcome to Hangman!\")\n",
        "print(\"Guess the word:\", \" \".join(guessed_word))\n",
        "\n",
        "# Step 3: Game loop\n",
        "while incorrect_guesses < max_guesses and \"_\" in guessed_word:\n",
        "    print(\"\\nGuessed letters so far:\", \", \".join(guessed_letters))\n",
        "    guess = input(\"Enter a letter: \").lower()\n",
        "\n",
        "    if guess in guessed_letters:\n",
        "        print(\"⚠️ You already guessed that letter.\")\n",
        "        continue\n",
        "\n",
        "    guessed_letters.append(guess)\n",
        "\n",
        "    if guess in secret_word:\n",
        "        found_new = False\n",
        "        for idx, letter in enumerate(secret_word):\n",
        "            if letter == guess:\n",
        "                if guessed_word[idx] == \"_\":\n",
        "                    guessed_word[idx] = guess\n",
        "                    found_new = True\n",
        "        if found_new:\n",
        "            score += 10\n",
        "        print(\"✅ Correct guess!\")\n",
        "    else:\n",
        "        incorrect_guesses += 1\n",
        "        score -= 5\n",
        "        print(\"❌ Wrong guess!\")\n",
        "\n",
        "    print(\"Word:\", \" \".join(guessed_word))\n",
        "    print(f\"Remaining tries: {max_guesses - incorrect_guesses}\")\n",
        "    print(f\"Current Score: {score}\")\n",
        "\n",
        "# Step 4: Game Over\n",
        "if \"_\" not in guessed_word:\n",
        "    print(\"\\n🎉 Congratulations! You guessed the word:\", secret_word)\n",
        "else:\n",
        "    print(\"\\n💀 Game Over! The word was:\", secret_word)\n",
        "\n",
        "print(f\"Your final score: {score}\")"
      ]
    }
  ]
}