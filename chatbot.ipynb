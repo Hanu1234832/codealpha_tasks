{
  "nbformat": 4,
  "nbformat_minor": 0,
  "metadata": {
    "colab": {
      "provenance": []
    },
    "kernelspec": {
      "name": "python3",
      "display_name": "Python 3"
    },
    "language_info": {
      "name": "python"
    }
  },
  "cells": [
    {
      "cell_type": "code",
      "execution_count": 7,
      "metadata": {
        "colab": {
          "base_uri": "https://localhost:8080/"
        },
        "id": "eoaSjiebn-O1",
        "outputId": "e38cee99-20fa-48a6-bbbf-b82adfe70119"
      },
      "outputs": [
        {
          "output_type": "stream",
          "name": "stdout",
          "text": [
            "Chatbot: Hello! Type something to begin, or 'bye' to exit.\n",
            "You: hello\n",
            "Chatbot: Hi!\n",
            "You: how are you\n",
            "Chatbot: I'm fine, thanks!\n",
            "You: bye\n",
            "Chatbot: Goodbye!\n"
          ]
        }
      ],
      "source": [
        "def chatbot():\n",
        "    print(\"Chatbot: Hello! Type something to begin, or 'bye' to exit.\")\n",
        "\n",
        "    while True:\n",
        "        user_input = input(\"You: \").lower()\n",
        "\n",
        "        if user_input == \"hello\":\n",
        "            print(\"Chatbot: Hi!\")\n",
        "        elif user_input == \"how are you\":\n",
        "            print(\"Chatbot: I'm fine, thanks!\")\n",
        "        elif user_input == \"bye\":\n",
        "            print(\"Chatbot: Goodbye!\")\n",
        "            break\n",
        "        else:\n",
        "            print(\"Chatbot: Sorry, I don't understand that.\")\n",
        "\n",
        "chatbot()"
      ]
    }
  ]
}